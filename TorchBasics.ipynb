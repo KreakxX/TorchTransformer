{
 "cells": [
  {
   "cell_type": "code",
   "execution_count": 1,
   "id": "8005d6b0",
   "metadata": {},
   "outputs": [],
   "source": [
    "import torch"
   ]
  },
  {
   "cell_type": "code",
   "execution_count": null,
   "id": "3a3ac61e",
   "metadata": {},
   "outputs": [
    {
     "name": "stdout",
     "output_type": "stream",
     "text": [
      "torch.Size([2])\n",
      "tensor([0.7360, 0.6270, 0.1289])\n",
      "tensor([0.6270, 0.9712, 0.1820])\n",
      "tensor(0.9712)\n",
      "0.9712191820144653\n"
     ]
    }
   ],
   "source": [
    "# Tensors\n",
    "\n",
    "x = torch.empty(1) \n",
    "x  = torch.rand(5,3) \n",
    "x = torch.zeros(3,3) # 3,3 Zero matrix \n",
    "\n",
    "x.size()\n",
    "\n",
    "x.shape\n",
    "\n",
    "x.dtype\n",
    "\n",
    "x = torch.zeros(3,3, dtype=torch.float16)\n",
    "\n",
    "x = torch.tensor([5.5,3])\n",
    "\n",
    "print(x.size())\n",
    "\n",
    "x = torch.tensor([5.5,3], requires_grad=True)  # requires grad for all variables in the model that needs to be optimized\n",
    "\n",
    "x = torch.rand(3,3)\n",
    "\n",
    "print(x[:, 0]) # all rows first col\n",
    "print(x[1, :]) # first row all cols\n",
    "print(x[1,1]) # first row 2 col\n",
    "\n",
    "print(x[1,1].item())\n",
    "\n",
    "device = torch.device('cuda' if torch.cuda.is_available() else 'cpu')\n",
    "\n",
    "x = torch.rand(3,3).to(device)"
   ]
  }
 ],
 "metadata": {
  "kernelspec": {
   "display_name": "tf-gpu",
   "language": "python",
   "name": "python3"
  },
  "language_info": {
   "codemirror_mode": {
    "name": "ipython",
    "version": 3
   },
   "file_extension": ".py",
   "mimetype": "text/x-python",
   "name": "python",
   "nbconvert_exporter": "python",
   "pygments_lexer": "ipython3",
   "version": "3.9.21"
  }
 },
 "nbformat": 4,
 "nbformat_minor": 5
}
